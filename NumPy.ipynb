{
 "cells": [
  {
   "cell_type": "code",
   "execution_count": 1,
   "id": "bf231c34-c669-4f17-98bc-7231f680264d",
   "metadata": {},
   "outputs": [],
   "source": [
    "import numpy as np"
   ]
  },
  {
   "cell_type": "code",
   "execution_count": 5,
   "id": "8510c9f5-063f-465e-a6ca-22f4e811f62e",
   "metadata": {},
   "outputs": [],
   "source": [
    "np_sqrt = np.sqrt([16, 25])"
   ]
  },
  {
   "cell_type": "code",
   "execution_count": 6,
   "id": "d74cfb3f-3db4-4f57-a34a-02cec23e4b02",
   "metadata": {},
   "outputs": [
    {
     "data": {
      "text/plain": [
       "array([4., 5.])"
      ]
     },
     "execution_count": 6,
     "metadata": {},
     "output_type": "execute_result"
    }
   ],
   "source": [
    "np_sqrt"
   ]
  },
  {
   "cell_type": "code",
   "execution_count": 13,
   "id": "b92ed343-544b-4ce4-bdff-eff7189e23c0",
   "metadata": {},
   "outputs": [
    {
     "data": {
      "text/plain": [
       "1.0"
      ]
     },
     "execution_count": 13,
     "metadata": {},
     "output_type": "execute_result"
    }
   ],
   "source": [
    "from numpy import pi\n",
    "np.cos(0)"
   ]
  },
  {
   "cell_type": "code",
   "execution_count": 14,
   "id": "4dc2ff6b-812e-4c3a-b9af-144d309fa2d2",
   "metadata": {},
   "outputs": [
    {
     "data": {
      "text/plain": [
       "-0.6536436208636119"
      ]
     },
     "execution_count": 14,
     "metadata": {},
     "output_type": "execute_result"
    }
   ],
   "source": [
    "np.cos(4)"
   ]
  },
  {
   "cell_type": "code",
   "execution_count": 15,
   "id": "f5f67327-90e4-4133-bda5-4308341dda80",
   "metadata": {},
   "outputs": [
    {
     "data": {
      "text/plain": [
       "0.8414709848078965"
      ]
     },
     "execution_count": 15,
     "metadata": {},
     "output_type": "execute_result"
    }
   ],
   "source": [
    "np.sin(1)"
   ]
  },
  {
   "cell_type": "code",
   "execution_count": 16,
   "id": "0bb3d658-fb3a-43a8-8d48-167c144c9c9e",
   "metadata": {},
   "outputs": [
    {
     "data": {
      "text/plain": [
       "-1.0"
      ]
     },
     "execution_count": 16,
     "metadata": {},
     "output_type": "execute_result"
    }
   ],
   "source": [
    "np.cos(pi)"
   ]
  },
  {
   "cell_type": "code",
   "execution_count": 17,
   "id": "9359a113-2a09-43e9-a8bc-33173c5aadf5",
   "metadata": {},
   "outputs": [
    {
     "data": {
      "text/plain": [
       "1.0"
      ]
     },
     "execution_count": 17,
     "metadata": {},
     "output_type": "execute_result"
    }
   ],
   "source": [
    "np.sin(pi/2)"
   ]
  },
  {
   "cell_type": "code",
   "execution_count": 18,
   "id": "aae9a2fb-55f1-4944-8aec-86ae21e00acf",
   "metadata": {},
   "outputs": [
    {
     "data": {
      "text/plain": [
       "-1.0"
      ]
     },
     "execution_count": 18,
     "metadata": {},
     "output_type": "execute_result"
    }
   ],
   "source": [
    "np.cos(pi)"
   ]
  },
  {
   "cell_type": "code",
   "execution_count": 19,
   "id": "1e73071c-0f84-4323-8169-5196eebc93a4",
   "metadata": {},
   "outputs": [],
   "source": [
    "array = np.array([1,2,3,4])"
   ]
  },
  {
   "cell_type": "code",
   "execution_count": 20,
   "id": "7d7e6d01-2d14-4fd4-9c1e-a4473199d28d",
   "metadata": {},
   "outputs": [
    {
     "data": {
      "text/plain": [
       "array([1, 2, 3, 4])"
      ]
     },
     "execution_count": 20,
     "metadata": {},
     "output_type": "execute_result"
    }
   ],
   "source": [
    "array"
   ]
  },
  {
   "cell_type": "code",
   "execution_count": 23,
   "id": "4afeef9b-0bcb-49cd-b023-256576edc0d4",
   "metadata": {},
   "outputs": [],
   "source": [
    "x = np.zeros([5,5])"
   ]
  },
  {
   "cell_type": "code",
   "execution_count": 24,
   "id": "63ac036a-05e4-4234-a860-f0511d540cd5",
   "metadata": {},
   "outputs": [
    {
     "data": {
      "text/plain": [
       "array([[0., 0., 0., 0., 0.],\n",
       "       [0., 0., 0., 0., 0.],\n",
       "       [0., 0., 0., 0., 0.],\n",
       "       [0., 0., 0., 0., 0.],\n",
       "       [0., 0., 0., 0., 0.]])"
      ]
     },
     "execution_count": 24,
     "metadata": {},
     "output_type": "execute_result"
    }
   ],
   "source": [
    "x"
   ]
  },
  {
   "cell_type": "code",
   "execution_count": 25,
   "id": "4e8a0961-e652-4667-b49d-bb6120af6f5a",
   "metadata": {},
   "outputs": [],
   "source": [
    "y = np.ones([4,4])"
   ]
  },
  {
   "cell_type": "code",
   "execution_count": 26,
   "id": "17d9963b-6d56-4cbe-a1d0-892aa05bbd64",
   "metadata": {},
   "outputs": [
    {
     "data": {
      "text/plain": [
       "array([[1., 1., 1., 1.],\n",
       "       [1., 1., 1., 1.],\n",
       "       [1., 1., 1., 1.],\n",
       "       [1., 1., 1., 1.]])"
      ]
     },
     "execution_count": 26,
     "metadata": {},
     "output_type": "execute_result"
    }
   ],
   "source": [
    "y"
   ]
  },
  {
   "cell_type": "code",
   "execution_count": 27,
   "id": "c44da1b4-dd3c-4eae-996c-f786d97e3812",
   "metadata": {},
   "outputs": [],
   "source": [
    "z = np.empty([3,3])"
   ]
  },
  {
   "cell_type": "code",
   "execution_count": 28,
   "id": "049b38dc-3cc0-4793-a26c-8b97a14b65a9",
   "metadata": {},
   "outputs": [
    {
     "data": {
      "text/plain": [
       "array([[7.76532116e-317, 0.00000000e+000, 2.44029516e-312],\n",
       "       [1.01855798e-312, 6.79243019e+199, 4.27255602e+180],\n",
       "       [7.49778978e+247, 7.34629039e+223, 3.95252517e-322]])"
      ]
     },
     "execution_count": 28,
     "metadata": {},
     "output_type": "execute_result"
    }
   ],
   "source": [
    "z"
   ]
  },
  {
   "cell_type": "code",
   "execution_count": 30,
   "id": "53d0ce85-95da-4db5-bda3-e968f3b4d48e",
   "metadata": {},
   "outputs": [],
   "source": [
    "a = np.arange(15)"
   ]
  },
  {
   "cell_type": "code",
   "execution_count": 31,
   "id": "2a5564a7-93cd-4b2e-8b85-c0ee8b8c3aa5",
   "metadata": {},
   "outputs": [
    {
     "data": {
      "text/plain": [
       "array([ 0,  1,  2,  3,  4,  5,  6,  7,  8,  9, 10, 11, 12, 13, 14])"
      ]
     },
     "execution_count": 31,
     "metadata": {},
     "output_type": "execute_result"
    }
   ],
   "source": [
    "a"
   ]
  },
  {
   "cell_type": "code",
   "execution_count": 34,
   "id": "4655419d-7630-44be-8d91-233a1f5dd8a6",
   "metadata": {},
   "outputs": [],
   "source": [
    "a = np.linspace(1,10,5)"
   ]
  },
  {
   "cell_type": "code",
   "execution_count": 35,
   "id": "8489de0c-2142-4d88-b59e-e07f48716b87",
   "metadata": {},
   "outputs": [
    {
     "data": {
      "text/plain": [
       "array([ 1.  ,  3.25,  5.5 ,  7.75, 10.  ])"
      ]
     },
     "execution_count": 35,
     "metadata": {},
     "output_type": "execute_result"
    }
   ],
   "source": [
    "a"
   ]
  },
  {
   "cell_type": "code",
   "execution_count": 38,
   "id": "b1516e1c-9143-4527-b78a-fb9231f6ffe4",
   "metadata": {},
   "outputs": [],
   "source": [
    "TwoD_array = np.arange(12).reshape(4,3)"
   ]
  },
  {
   "cell_type": "code",
   "execution_count": 39,
   "id": "11c1274d-1a0e-41b2-9cfa-10a08046b43b",
   "metadata": {},
   "outputs": [
    {
     "data": {
      "text/plain": [
       "array([[ 0,  1,  2],\n",
       "       [ 3,  4,  5],\n",
       "       [ 6,  7,  8],\n",
       "       [ 9, 10, 11]])"
      ]
     },
     "execution_count": 39,
     "metadata": {},
     "output_type": "execute_result"
    }
   ],
   "source": [
    "TwoD_array"
   ]
  },
  {
   "cell_type": "code",
   "execution_count": 40,
   "id": "7159fb0e-0dc3-46fa-82c9-d754880e3be6",
   "metadata": {},
   "outputs": [],
   "source": [
    "ThreeD_array = np.arange(27).reshape(3,3,3)"
   ]
  },
  {
   "cell_type": "code",
   "execution_count": 41,
   "id": "e7d761bf-636d-41db-91ed-6f3506604945",
   "metadata": {},
   "outputs": [
    {
     "data": {
      "text/plain": [
       "array([[[ 0,  1,  2],\n",
       "        [ 3,  4,  5],\n",
       "        [ 6,  7,  8]],\n",
       "\n",
       "       [[ 9, 10, 11],\n",
       "        [12, 13, 14],\n",
       "        [15, 16, 17]],\n",
       "\n",
       "       [[18, 19, 20],\n",
       "        [21, 22, 23],\n",
       "        [24, 25, 26]]])"
      ]
     },
     "execution_count": 41,
     "metadata": {},
     "output_type": "execute_result"
    }
   ],
   "source": [
    "ThreeD_array"
   ]
  },
  {
   "cell_type": "code",
   "execution_count": 43,
   "id": "04ea67e0-9e07-4171-9d37-3b2a02187c23",
   "metadata": {},
   "outputs": [],
   "source": [
    "t = np.arange(125).reshape(5,5,5)"
   ]
  },
  {
   "cell_type": "code",
   "execution_count": 44,
   "id": "fc70e38d-a77e-4bf6-a7e8-9e48ee0948fc",
   "metadata": {},
   "outputs": [
    {
     "data": {
      "text/plain": [
       "array([[[  0,   1,   2,   3,   4],\n",
       "        [  5,   6,   7,   8,   9],\n",
       "        [ 10,  11,  12,  13,  14],\n",
       "        [ 15,  16,  17,  18,  19],\n",
       "        [ 20,  21,  22,  23,  24]],\n",
       "\n",
       "       [[ 25,  26,  27,  28,  29],\n",
       "        [ 30,  31,  32,  33,  34],\n",
       "        [ 35,  36,  37,  38,  39],\n",
       "        [ 40,  41,  42,  43,  44],\n",
       "        [ 45,  46,  47,  48,  49]],\n",
       "\n",
       "       [[ 50,  51,  52,  53,  54],\n",
       "        [ 55,  56,  57,  58,  59],\n",
       "        [ 60,  61,  62,  63,  64],\n",
       "        [ 65,  66,  67,  68,  69],\n",
       "        [ 70,  71,  72,  73,  74]],\n",
       "\n",
       "       [[ 75,  76,  77,  78,  79],\n",
       "        [ 80,  81,  82,  83,  84],\n",
       "        [ 85,  86,  87,  88,  89],\n",
       "        [ 90,  91,  92,  93,  94],\n",
       "        [ 95,  96,  97,  98,  99]],\n",
       "\n",
       "       [[100, 101, 102, 103, 104],\n",
       "        [105, 106, 107, 108, 109],\n",
       "        [110, 111, 112, 113, 114],\n",
       "        [115, 116, 117, 118, 119],\n",
       "        [120, 121, 122, 123, 124]]])"
      ]
     },
     "execution_count": 44,
     "metadata": {},
     "output_type": "execute_result"
    }
   ],
   "source": [
    "t"
   ]
  },
  {
   "cell_type": "code",
   "execution_count": 51,
   "id": "1665cf33-2f76-4509-b97c-f9ebaaff75f7",
   "metadata": {},
   "outputs": [],
   "source": [
    "a = np.array(([2,3,4],[4,5,6]))"
   ]
  },
  {
   "cell_type": "code",
   "execution_count": 55,
   "id": "a8c66a67-3d35-4e93-9f13-21ca4131057e",
   "metadata": {},
   "outputs": [
    {
     "data": {
      "text/plain": [
       "array([[2, 3, 4],\n",
       "       [4, 5, 6]])"
      ]
     },
     "execution_count": 55,
     "metadata": {},
     "output_type": "execute_result"
    }
   ],
   "source": [
    "a"
   ]
  },
  {
   "cell_type": "code",
   "execution_count": 52,
   "id": "e85fc3f2-7ef5-46e0-9f39-dabd073a9891",
   "metadata": {},
   "outputs": [],
   "source": [
    "b = np.array(([5,6,7],[8,9,0]))"
   ]
  },
  {
   "cell_type": "code",
   "execution_count": 56,
   "id": "56448dd7-066d-4208-8ab4-a50d2410d5bd",
   "metadata": {},
   "outputs": [
    {
     "data": {
      "text/plain": [
       "array([[5, 6, 7],\n",
       "       [8, 9, 0]])"
      ]
     },
     "execution_count": 56,
     "metadata": {},
     "output_type": "execute_result"
    }
   ],
   "source": [
    "b"
   ]
  },
  {
   "cell_type": "code",
   "execution_count": 53,
   "id": "769e13d3-de93-4108-9538-2919d53ebc88",
   "metadata": {},
   "outputs": [],
   "source": [
    "c = np.add(a, b)"
   ]
  },
  {
   "cell_type": "code",
   "execution_count": 54,
   "id": "0a31364d-e88a-411a-aeb9-9a23e408c3c5",
   "metadata": {},
   "outputs": [
    {
     "data": {
      "text/plain": [
       "array([[ 7,  9, 11],\n",
       "       [12, 14,  6]])"
      ]
     },
     "execution_count": 54,
     "metadata": {},
     "output_type": "execute_result"
    }
   ],
   "source": [
    "c"
   ]
  },
  {
   "cell_type": "code",
   "execution_count": 58,
   "id": "9e9fb69f-827d-44d2-9e32-30cd5100ca83",
   "metadata": {},
   "outputs": [],
   "source": [
    "d = np.subtract(a,b)"
   ]
  },
  {
   "cell_type": "code",
   "execution_count": 59,
   "id": "f4859c07-90ee-4862-83a5-12050b010f52",
   "metadata": {},
   "outputs": [
    {
     "data": {
      "text/plain": [
       "array([[-3, -3, -3],\n",
       "       [-4, -4,  6]])"
      ]
     },
     "execution_count": 59,
     "metadata": {},
     "output_type": "execute_result"
    }
   ],
   "source": [
    "d"
   ]
  },
  {
   "cell_type": "code",
   "execution_count": 60,
   "id": "13518a8e-3cf6-4ec5-845f-bb43e3a77036",
   "metadata": {},
   "outputs": [
    {
     "data": {
      "text/plain": [
       "array([[     32,     729,   16384],\n",
       "       [  65536, 1953125,       1]])"
      ]
     },
     "execution_count": 60,
     "metadata": {},
     "output_type": "execute_result"
    }
   ],
   "source": [
    "np.power(a,b)"
   ]
  },
  {
   "cell_type": "code",
   "execution_count": 61,
   "id": "22fcb803-0fdb-41fb-9a8d-45bd271de463",
   "metadata": {},
   "outputs": [
    {
     "data": {
      "text/plain": [
       "array([[   25,   216,  2401],\n",
       "       [ 4096, 59049,     0]])"
      ]
     },
     "execution_count": 61,
     "metadata": {},
     "output_type": "execute_result"
    }
   ],
   "source": [
    "np.power(b,a)"
   ]
  },
  {
   "cell_type": "code",
   "execution_count": 64,
   "id": "fb16a912-5db0-4ac4-8803-a3c79097e20f",
   "metadata": {},
   "outputs": [],
   "source": [
    "x = np.array([i for i in range(12)])"
   ]
  },
  {
   "cell_type": "code",
   "execution_count": 65,
   "id": "88f7522f-4e57-494e-a997-6efc0c1c20c3",
   "metadata": {},
   "outputs": [
    {
     "data": {
      "text/plain": [
       "array([ 0,  1,  2,  3,  4,  5,  6,  7,  8,  9, 10, 11])"
      ]
     },
     "execution_count": 65,
     "metadata": {},
     "output_type": "execute_result"
    }
   ],
   "source": [
    "x"
   ]
  },
  {
   "cell_type": "code",
   "execution_count": 66,
   "id": "950ad5b5-906a-4c4b-b47b-9f0839ae29be",
   "metadata": {},
   "outputs": [
    {
     "data": {
      "text/plain": [
       "array(['Even', 'Odd', 'Even', 'Odd', 'Even', 'Odd', 'Even', 'Odd', 'Even',\n",
       "       'Odd', 'Even', 'Odd'], dtype='<U4')"
      ]
     },
     "execution_count": 66,
     "metadata": {},
     "output_type": "execute_result"
    }
   ],
   "source": [
    "np.where(x%2==0, 'Even', 'Odd')"
   ]
  },
  {
   "cell_type": "code",
   "execution_count": 67,
   "id": "55a5ef91-8aab-4645-abfd-4f64e7faa143",
   "metadata": {},
   "outputs": [],
   "source": [
    "condlist = (x<5, x>5)\n",
    "choicelist = (x**2, x**3)"
   ]
  },
  {
   "cell_type": "code",
   "execution_count": 68,
   "id": "c69cea4f-9538-430e-9982-86110f02072a",
   "metadata": {},
   "outputs": [
    {
     "data": {
      "text/plain": [
       "array([   0,    1,    4,    9,   16,    5,  216,  343,  512,  729, 1000,\n",
       "       1331])"
      ]
     },
     "execution_count": 68,
     "metadata": {},
     "output_type": "execute_result"
    }
   ],
   "source": [
    "np.select(condlist, choicelist, default = x)"
   ]
  },
  {
   "cell_type": "code",
   "execution_count": null,
   "id": "5f179e2d-c140-4363-996f-393cdd957267",
   "metadata": {},
   "outputs": [],
   "source": []
  },
  {
   "cell_type": "code",
   "execution_count": null,
   "id": "0c3c3b32-38fd-479c-a5b5-5841367741e8",
   "metadata": {},
   "outputs": [],
   "source": []
  },
  {
   "cell_type": "code",
   "execution_count": 70,
   "id": "67a2935f-fa53-4f52-bb02-69d31a6b9c6f",
   "metadata": {},
   "outputs": [],
   "source": [
    " v = np.array((([1,2,3],[4,5,6],[7,8,9])))"
   ]
  },
  {
   "cell_type": "code",
   "execution_count": 71,
   "id": "b8a7ab87-86a9-4d52-ad5d-2caa1ef756a9",
   "metadata": {},
   "outputs": [
    {
     "data": {
      "text/plain": [
       "array([[1, 2, 3],\n",
       "       [4, 5, 6],\n",
       "       [7, 8, 9]])"
      ]
     },
     "execution_count": 71,
     "metadata": {},
     "output_type": "execute_result"
    }
   ],
   "source": [
    "v"
   ]
  },
  {
   "cell_type": "code",
   "execution_count": 72,
   "id": "ff0cca02-5024-4e8d-b6ce-ea96ac9c2dde",
   "metadata": {},
   "outputs": [
    {
     "data": {
      "text/plain": [
       "1"
      ]
     },
     "execution_count": 72,
     "metadata": {},
     "output_type": "execute_result"
    }
   ],
   "source": [
    "np.min(v)"
   ]
  },
  {
   "cell_type": "code",
   "execution_count": 73,
   "id": "ec68e9fb-2c27-4e8c-911a-1bcdefef7d72",
   "metadata": {},
   "outputs": [
    {
     "data": {
      "text/plain": [
       "array([1, 2, 3])"
      ]
     },
     "execution_count": 73,
     "metadata": {},
     "output_type": "execute_result"
    }
   ],
   "source": [
    "np.min(v, axis = 0)"
   ]
  },
  {
   "cell_type": "code",
   "execution_count": 74,
   "id": "ca065102-5df6-41e4-acd9-609443cb6c5b",
   "metadata": {},
   "outputs": [
    {
     "data": {
      "text/plain": [
       "array([1, 4, 7])"
      ]
     },
     "execution_count": 74,
     "metadata": {},
     "output_type": "execute_result"
    }
   ],
   "source": [
    "np.min(v, axis=1)"
   ]
  },
  {
   "cell_type": "code",
   "execution_count": 75,
   "id": "9142e9ce-fcfa-43ba-ae85-04e92e93421e",
   "metadata": {},
   "outputs": [
    {
     "data": {
      "text/plain": [
       "9"
      ]
     },
     "execution_count": 75,
     "metadata": {},
     "output_type": "execute_result"
    }
   ],
   "source": [
    "np.max(v)"
   ]
  },
  {
   "cell_type": "code",
   "execution_count": 76,
   "id": "522fff41-a602-4e2e-bb4b-b913f5459f62",
   "metadata": {},
   "outputs": [
    {
     "data": {
      "text/plain": [
       "5.0"
      ]
     },
     "execution_count": 76,
     "metadata": {},
     "output_type": "execute_result"
    }
   ],
   "source": [
    "np.mean(v)"
   ]
  },
  {
   "cell_type": "code",
   "execution_count": 77,
   "id": "7f35ea96-4fec-4e85-b41b-3172a49bcaf7",
   "metadata": {},
   "outputs": [
    {
     "data": {
      "text/plain": [
       "2.581988897471611"
      ]
     },
     "execution_count": 77,
     "metadata": {},
     "output_type": "execute_result"
    }
   ],
   "source": [
    "np.std(v)"
   ]
  },
  {
   "cell_type": "code",
   "execution_count": 78,
   "id": "6efaf56f-8336-4545-abef-9383d2bb58b9",
   "metadata": {},
   "outputs": [
    {
     "data": {
      "text/plain": [
       "6.666666666666667"
      ]
     },
     "execution_count": 78,
     "metadata": {},
     "output_type": "execute_result"
    }
   ],
   "source": [
    "np.var(v)"
   ]
  },
  {
   "cell_type": "code",
   "execution_count": 81,
   "id": "a3f59d05-84c9-4b62-9fec-2877aa00f590",
   "metadata": {},
   "outputs": [
    {
     "data": {
      "text/plain": [
       "3.0"
      ]
     },
     "execution_count": 81,
     "metadata": {},
     "output_type": "execute_result"
    }
   ],
   "source": [
    "np.percentile(v, 25)"
   ]
  },
  {
   "cell_type": "code",
   "execution_count": 82,
   "id": "ff05c7f8-14b3-48d9-8070-d387909e6af3",
   "metadata": {},
   "outputs": [
    {
     "data": {
      "text/plain": [
       "array([[1., 2., 3.],\n",
       "       [4., 5., 6.],\n",
       "       [7., 8., 9.]])"
      ]
     },
     "execution_count": 82,
     "metadata": {},
     "output_type": "execute_result"
    }
   ],
   "source": [
    "np.floor(v)"
   ]
  },
  {
   "cell_type": "code",
   "execution_count": 83,
   "id": "9ca3cd85-2835-45c8-9117-995d0eef485c",
   "metadata": {},
   "outputs": [
    {
     "data": {
      "text/plain": [
       "array([[1., 2., 3.],\n",
       "       [4., 5., 6.],\n",
       "       [7., 8., 9.]])"
      ]
     },
     "execution_count": 83,
     "metadata": {},
     "output_type": "execute_result"
    }
   ],
   "source": [
    "np.ceil(v)"
   ]
  },
  {
   "cell_type": "code",
   "execution_count": null,
   "id": "86503656-b7cb-4362-8205-5fd5be9beeab",
   "metadata": {},
   "outputs": [],
   "source": []
  }
 ],
 "metadata": {
  "kernelspec": {
   "display_name": "Python 3 (ipykernel)",
   "language": "python",
   "name": "python3"
  },
  "language_info": {
   "codemirror_mode": {
    "name": "ipython",
    "version": 3
   },
   "file_extension": ".py",
   "mimetype": "text/x-python",
   "name": "python",
   "nbconvert_exporter": "python",
   "pygments_lexer": "ipython3",
   "version": "3.9.13"
  }
 },
 "nbformat": 4,
 "nbformat_minor": 5
}
