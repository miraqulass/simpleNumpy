{
 "cells": [
  {
   "cell_type": "code",
   "execution_count": 3,
   "id": "a09e6f06-c5bb-4702-9382-c4e526a3ad2b",
   "metadata": {},
   "outputs": [],
   "source": [
    "import numpy as np"
   ]
  },
  {
   "cell_type": "code",
   "execution_count": 4,
   "id": "9cd96ddc-b05c-413f-a932-86cf875c7f8c",
   "metadata": {},
   "outputs": [],
   "source": [
    "x = np.array([2,3,4,5])"
   ]
  },
  {
   "cell_type": "code",
   "execution_count": 5,
   "id": "56cb66c0-95d1-446a-8312-de1683f317be",
   "metadata": {},
   "outputs": [
    {
     "data": {
      "text/plain": [
       "8"
      ]
     },
     "execution_count": 5,
     "metadata": {},
     "output_type": "execute_result"
    }
   ],
   "source": [
    "x.itemsize"
   ]
  },
  {
   "cell_type": "code",
   "execution_count": 6,
   "id": "03089d5f-f47a-46ee-ab60-5610470c7917",
   "metadata": {},
   "outputs": [],
   "source": [
    "x = np.array([(2,3,4),(5,6,7)])"
   ]
  },
  {
   "cell_type": "code",
   "execution_count": 7,
   "id": "7066a4e6-1b29-4f70-8eeb-8c80489b71b2",
   "metadata": {},
   "outputs": [
    {
     "data": {
      "text/plain": [
       "array([2, 5])"
      ]
     },
     "execution_count": 7,
     "metadata": {},
     "output_type": "execute_result"
    }
   ],
   "source": [
    "x[0:,0]"
   ]
  },
  {
   "cell_type": "code",
   "execution_count": 8,
   "id": "11c7ec2d-7fee-4a40-a5eb-43adeb1f8c3f",
   "metadata": {},
   "outputs": [
    {
     "data": {
      "text/plain": [
       "7"
      ]
     },
     "execution_count": 8,
     "metadata": {},
     "output_type": "execute_result"
    }
   ],
   "source": [
    "x.max()"
   ]
  },
  {
   "cell_type": "code",
   "execution_count": 9,
   "id": "28b1d298-f8c2-4385-9122-92c62db84707",
   "metadata": {},
   "outputs": [
    {
     "data": {
      "text/plain": [
       "2"
      ]
     },
     "execution_count": 9,
     "metadata": {},
     "output_type": "execute_result"
    }
   ],
   "source": [
    "x.min()"
   ]
  },
  {
   "cell_type": "code",
   "execution_count": null,
   "id": "7029c86b-d0c3-46ca-8a80-bf801bc4820a",
   "metadata": {},
   "outputs": [],
   "source": []
  },
  {
   "cell_type": "code",
   "execution_count": null,
   "id": "cf9cb7e3-15f1-4ac3-bc16-c71fc88a95d8",
   "metadata": {},
   "outputs": [],
   "source": []
  },
  {
   "cell_type": "code",
   "execution_count": 10,
   "id": "9c16363e-e676-499a-8356-70da84c53929",
   "metadata": {},
   "outputs": [],
   "source": [
    "z = np.linspace(1, 100)"
   ]
  },
  {
   "cell_type": "code",
   "execution_count": 11,
   "id": "2a22232c-3937-4c5d-b8b6-8aedec4cb5fa",
   "metadata": {},
   "outputs": [
    {
     "data": {
      "text/plain": [
       "array([  1.        ,   3.02040816,   5.04081633,   7.06122449,\n",
       "         9.08163265,  11.10204082,  13.12244898,  15.14285714,\n",
       "        17.16326531,  19.18367347,  21.20408163,  23.2244898 ,\n",
       "        25.24489796,  27.26530612,  29.28571429,  31.30612245,\n",
       "        33.32653061,  35.34693878,  37.36734694,  39.3877551 ,\n",
       "        41.40816327,  43.42857143,  45.44897959,  47.46938776,\n",
       "        49.48979592,  51.51020408,  53.53061224,  55.55102041,\n",
       "        57.57142857,  59.59183673,  61.6122449 ,  63.63265306,\n",
       "        65.65306122,  67.67346939,  69.69387755,  71.71428571,\n",
       "        73.73469388,  75.75510204,  77.7755102 ,  79.79591837,\n",
       "        81.81632653,  83.83673469,  85.85714286,  87.87755102,\n",
       "        89.89795918,  91.91836735,  93.93877551,  95.95918367,\n",
       "        97.97959184, 100.        ])"
      ]
     },
     "execution_count": 11,
     "metadata": {},
     "output_type": "execute_result"
    }
   ],
   "source": [
    "z"
   ]
  },
  {
   "cell_type": "code",
   "execution_count": null,
   "id": "0ad5a365-a8de-4093-8585-206e2dc0aabf",
   "metadata": {},
   "outputs": [],
   "source": []
  },
  {
   "cell_type": "code",
   "execution_count": null,
   "id": "97072c38-ea30-4129-95b4-5ae7453f89e9",
   "metadata": {},
   "outputs": [],
   "source": []
  },
  {
   "cell_type": "code",
   "execution_count": 12,
   "id": "68ef8aa3-91d6-418b-aa21-12cccf99e328",
   "metadata": {},
   "outputs": [],
   "source": [
    "a = np.array([(1,2,3,4), (5,6,7,8), (9,0,9,0)])"
   ]
  },
  {
   "cell_type": "code",
   "execution_count": 13,
   "id": "4510e21e-5d31-43cc-b15a-2a2364942d89",
   "metadata": {},
   "outputs": [],
   "source": [
    "b = np.array([(1,2,3,4), (5,6,7,8), (9,0,9,0)])"
   ]
  },
  {
   "cell_type": "code",
   "execution_count": 14,
   "id": "b25fffce-59e7-4ff4-aad1-e0eb74b462e9",
   "metadata": {},
   "outputs": [
    {
     "data": {
      "text/plain": [
       "array([[ 2,  4,  6,  8],\n",
       "       [10, 12, 14, 16],\n",
       "       [18,  0, 18,  0]])"
      ]
     },
     "execution_count": 14,
     "metadata": {},
     "output_type": "execute_result"
    }
   ],
   "source": [
    "a+b"
   ]
  },
  {
   "cell_type": "code",
   "execution_count": 15,
   "id": "0d292d4f-9696-49fb-a0c7-1bc8e1ed8586",
   "metadata": {},
   "outputs": [
    {
     "data": {
      "text/plain": [
       "array([1, 2, 3, 4, 5, 6, 7, 8, 9, 0, 9, 0])"
      ]
     },
     "execution_count": 15,
     "metadata": {},
     "output_type": "execute_result"
    }
   ],
   "source": [
    "a.ravel()"
   ]
  },
  {
   "cell_type": "code",
   "execution_count": 16,
   "id": "668767d3-2e27-4038-bc80-a1dbcb69427c",
   "metadata": {},
   "outputs": [
    {
     "data": {
      "text/plain": [
       "array([ 2,  4,  6,  8, 10, 12, 14, 16, 18,  0, 18,  0])"
      ]
     },
     "execution_count": 16,
     "metadata": {},
     "output_type": "execute_result"
    }
   ],
   "source": [
    "(a+b).ravel()"
   ]
  },
  {
   "cell_type": "code",
   "execution_count": 17,
   "id": "2818c2a6-8363-43f8-95d9-4fb4c416f675",
   "metadata": {},
   "outputs": [
    {
     "data": {
      "text/plain": [
       "array([20, 52, 36])"
      ]
     },
     "execution_count": 17,
     "metadata": {},
     "output_type": "execute_result"
    }
   ],
   "source": [
    "(a+b).sum(axis = 1)"
   ]
  },
  {
   "cell_type": "code",
   "execution_count": 18,
   "id": "ace7e53b-7548-4539-bbc5-0e378d543976",
   "metadata": {},
   "outputs": [
    {
     "data": {
      "text/plain": [
       "array([[1.        , 1.41421356, 1.73205081, 2.        ],\n",
       "       [2.23606798, 2.44948974, 2.64575131, 2.82842712],\n",
       "       [3.        , 0.        , 3.        , 0.        ]])"
      ]
     },
     "execution_count": 18,
     "metadata": {},
     "output_type": "execute_result"
    }
   ],
   "source": [
    "np.sqrt(a)"
   ]
  },
  {
   "cell_type": "code",
   "execution_count": 19,
   "id": "79d9eaf2-ee17-45f6-90f6-63a195e17000",
   "metadata": {},
   "outputs": [
    {
     "data": {
      "text/plain": [
       "array([[2.71828183e+00, 7.38905610e+00, 2.00855369e+01, 5.45981500e+01],\n",
       "       [1.48413159e+02, 4.03428793e+02, 1.09663316e+03, 2.98095799e+03],\n",
       "       [8.10308393e+03, 1.00000000e+00, 8.10308393e+03, 1.00000000e+00]])"
      ]
     },
     "execution_count": 19,
     "metadata": {},
     "output_type": "execute_result"
    }
   ],
   "source": [
    "np.exp(a)"
   ]
  },
  {
   "cell_type": "code",
   "execution_count": 20,
   "id": "ae7dae13-9855-4791-9d25-91a482012945",
   "metadata": {},
   "outputs": [
    {
     "name": "stderr",
     "output_type": "stream",
     "text": [
      "/tmp/ipykernel_234770/4200754868.py:1: RuntimeWarning: divide by zero encountered in log\n",
      "  np.log(b)\n"
     ]
    },
    {
     "data": {
      "text/plain": [
       "array([[0.        , 0.69314718, 1.09861229, 1.38629436],\n",
       "       [1.60943791, 1.79175947, 1.94591015, 2.07944154],\n",
       "       [2.19722458,       -inf, 2.19722458,       -inf]])"
      ]
     },
     "execution_count": 20,
     "metadata": {},
     "output_type": "execute_result"
    }
   ],
   "source": [
    "np.log(b)"
   ]
  },
  {
   "cell_type": "code",
   "execution_count": 21,
   "id": "ca8c2b49-2bbb-4046-87e3-7ce348ff3b75",
   "metadata": {},
   "outputs": [
    {
     "data": {
      "text/plain": [
       "4"
      ]
     },
     "execution_count": 21,
     "metadata": {},
     "output_type": "execute_result"
    }
   ],
   "source": [
    "np.random.randint(0,10)"
   ]
  },
  {
   "cell_type": "code",
   "execution_count": null,
   "id": "becd1172-b96c-4094-9bc9-db63806c2c12",
   "metadata": {},
   "outputs": [],
   "source": []
  }
 ],
 "metadata": {
  "kernelspec": {
   "display_name": "Python 3 (ipykernel)",
   "language": "python",
   "name": "python3"
  },
  "language_info": {
   "codemirror_mode": {
    "name": "ipython",
    "version": 3
   },
   "file_extension": ".py",
   "mimetype": "text/x-python",
   "name": "python",
   "nbconvert_exporter": "python",
   "pygments_lexer": "ipython3",
   "version": "3.9.13"
  }
 },
 "nbformat": 4,
 "nbformat_minor": 5
}
